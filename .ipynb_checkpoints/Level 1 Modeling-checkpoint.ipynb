{
 "cells": [
  {
   "cell_type": "code",
   "execution_count": 15,
   "metadata": {
    "collapsed": true
   },
   "outputs": [],
   "source": [
    "%matplotlib inline\n",
    "import os,csv,codecs\n",
    "import pandas  as pd\n",
    "import numpy   as np\n",
    "import sklearn as sk\n",
    "\n",
    "import sklearn\n",
    "from sklearn import preprocessing\n",
    "from sklearn import decomposition\n",
    "\n",
    "import matplotlib.pyplot as plt\n",
    "from scipy.stats.stats import pearsonr\n",
    "import statsmodels.api as sm"
   ]
  },
  {
   "cell_type": "code",
   "execution_count": 2,
   "metadata": {
    "collapsed": true
   },
   "outputs": [],
   "source": [
    "def readcsv(filepath):\n",
    "    data = []\n",
    "    OF = codecs.open(filepath,'r', 'cp1252')\n",
    "    for row in csv.reader(OF, dialect='excel', skipinitialspace=True):\n",
    "        row = [str(a).strip() for a in row]\n",
    "        data.append(row)\n",
    "    return data\n",
    "\n",
    "def readtsv(filepath):\n",
    "    data = []\n",
    "    OF = codecs.open(filepath,'r', 'cp1252')\n",
    "    for row in csv.reader(OF, dialect='excel', delimiter=\"\\t\", skipinitialspace=True):\n",
    "        row = [str(a).strip() for a in row]\n",
    "        data.append(row)\n",
    "    return data\n",
    "\n",
    "def writecsv(filepath,data):\n",
    "    WF = codecs.open(filepath,'w', 'utf-8')\n",
    "    writer = csv.writer(WF, dialect='excel', skipinitialspace=True)\n",
    "    for row in data:\n",
    "        row = [str(a).strip() for a in row]\n",
    "        writer.writerow(row)\n",
    "        \n",
    "def GetColumnNames(cnx,table_name=''):\n",
    "    try:    table_df = PullTable(cnx,table_name,'* LIMIT 1')\n",
    "    except: table_df = cnx\n",
    "    col_names = list(table_df.columns.values)\n",
    "    return col_names\n",
    "\n",
    "# Takes a series having numerical values:\n",
    "# Returns a series \n",
    "#     - Normalized to a mean of 0.0 and SD of 1.0\n",
    "#     - With all empty or NaN vals replaced by the mean.\n",
    "def NormalizeSeries(ser):\n",
    "    # find mean of existing values:\n",
    "    global Strings,A,MinVal,MaxVal,S,A\n",
    "    A = np.array(ser)\n",
    "    Set = list(set(A))\n",
    "    if len(Set)==2:\n",
    "        LL,UL = 0.000,1.348\n",
    "        A2 = []\n",
    "        for v in A:\n",
    "            STR = str(v)\n",
    "            if len(STR)>0 and STR[0] in 'YyTtMm1': A2.append(UL)\n",
    "            else: A2.append(LL)\n",
    "        normalized = pd.Series(A2)\n",
    "    else:\n",
    "        Mean = np.array([x for x in A if str(x) != 'nan']).mean()\n",
    "        A[np.isnan(A)] = Mean\n",
    "        normalized = pd.Series(preprocessing.scale(A))\n",
    "    return normalized\n"
   ]
  },
  {
   "cell_type": "code",
   "execution_count": 3,
   "metadata": {
    "collapsed": true
   },
   "outputs": [],
   "source": [
    "#################################################################"
   ]
  },
  {
   "cell_type": "code",
   "execution_count": 4,
   "metadata": {
    "collapsed": true
   },
   "outputs": [],
   "source": [
    "# Load TRAIN data  ## Has both Input and Output variables.\n",
    "fn1 = 'DATA/AUDITION/TRAIN.csv'\n",
    "TRAIN = pd.read_csv(fn1,low_memory=False)\n",
    "\n",
    "# Load TEST data  ## Has ONLY Input Variables. (Goal is to render Outputs for this.)\n",
    "fn2 = 'DATA/AUDITION/TEST.csv'\n",
    "TEST = pd.read_csv(fn2,low_memory=False)"
   ]
  },
  {
   "cell_type": "code",
   "execution_count": 5,
   "metadata": {
    "collapsed": false
   },
   "outputs": [
    {
     "data": {
      "text/html": [
       "<div>\n",
       "<table border=\"1\" class=\"dataframe\">\n",
       "  <thead>\n",
       "    <tr style=\"text-align: right;\">\n",
       "      <th></th>\n",
       "      <th>ID</th>\n",
       "      <th>A</th>\n",
       "      <th>B</th>\n",
       "      <th>C</th>\n",
       "      <th>D</th>\n",
       "      <th>E</th>\n",
       "      <th>F</th>\n",
       "      <th>G</th>\n",
       "      <th>H</th>\n",
       "      <th>I</th>\n",
       "      <th>J</th>\n",
       "      <th>W</th>\n",
       "      <th>X</th>\n",
       "      <th>Y</th>\n",
       "      <th>Z</th>\n",
       "    </tr>\n",
       "  </thead>\n",
       "  <tbody>\n",
       "    <tr>\n",
       "      <th>0</th>\n",
       "      <td>5001</td>\n",
       "      <td>2.148591</td>\n",
       "      <td>5.933160</td>\n",
       "      <td>1.340023</td>\n",
       "      <td>5.401409</td>\n",
       "      <td>6.879777</td>\n",
       "      <td>9.248826</td>\n",
       "      <td>4.519724</td>\n",
       "      <td>2.590571</td>\n",
       "      <td>8.210194</td>\n",
       "      <td>6.393657</td>\n",
       "      <td>NaN</td>\n",
       "      <td>NaN</td>\n",
       "      <td>NaN</td>\n",
       "      <td>NaN</td>\n",
       "    </tr>\n",
       "    <tr>\n",
       "      <th>1</th>\n",
       "      <td>5002</td>\n",
       "      <td>8.965788</td>\n",
       "      <td>3.356338</td>\n",
       "      <td>0.033176</td>\n",
       "      <td>4.635389</td>\n",
       "      <td>0.949219</td>\n",
       "      <td>8.393575</td>\n",
       "      <td>9.123983</td>\n",
       "      <td>8.771116</td>\n",
       "      <td>6.885759</td>\n",
       "      <td>5.845078</td>\n",
       "      <td>NaN</td>\n",
       "      <td>NaN</td>\n",
       "      <td>NaN</td>\n",
       "      <td>NaN</td>\n",
       "    </tr>\n",
       "    <tr>\n",
       "      <th>2</th>\n",
       "      <td>5003</td>\n",
       "      <td>0.357830</td>\n",
       "      <td>7.310457</td>\n",
       "      <td>2.808629</td>\n",
       "      <td>0.971675</td>\n",
       "      <td>6.620750</td>\n",
       "      <td>5.922441</td>\n",
       "      <td>8.695757</td>\n",
       "      <td>6.048115</td>\n",
       "      <td>1.495459</td>\n",
       "      <td>8.933486</td>\n",
       "      <td>NaN</td>\n",
       "      <td>NaN</td>\n",
       "      <td>NaN</td>\n",
       "      <td>NaN</td>\n",
       "    </tr>\n",
       "    <tr>\n",
       "      <th>3</th>\n",
       "      <td>5004</td>\n",
       "      <td>2.032347</td>\n",
       "      <td>0.323524</td>\n",
       "      <td>4.896318</td>\n",
       "      <td>5.633193</td>\n",
       "      <td>9.503114</td>\n",
       "      <td>6.420747</td>\n",
       "      <td>8.057582</td>\n",
       "      <td>3.956517</td>\n",
       "      <td>4.850972</td>\n",
       "      <td>0.398676</td>\n",
       "      <td>NaN</td>\n",
       "      <td>NaN</td>\n",
       "      <td>NaN</td>\n",
       "      <td>NaN</td>\n",
       "    </tr>\n",
       "    <tr>\n",
       "      <th>4</th>\n",
       "      <td>5005</td>\n",
       "      <td>7.065014</td>\n",
       "      <td>4.177490</td>\n",
       "      <td>1.316311</td>\n",
       "      <td>0.158859</td>\n",
       "      <td>9.546206</td>\n",
       "      <td>5.090943</td>\n",
       "      <td>3.310969</td>\n",
       "      <td>4.706232</td>\n",
       "      <td>4.697675</td>\n",
       "      <td>8.102370</td>\n",
       "      <td>NaN</td>\n",
       "      <td>NaN</td>\n",
       "      <td>NaN</td>\n",
       "      <td>NaN</td>\n",
       "    </tr>\n",
       "  </tbody>\n",
       "</table>\n",
       "</div>"
      ],
      "text/plain": [
       "     ID         A         B         C         D         E         F         G  \\\n",
       "0  5001  2.148591  5.933160  1.340023  5.401409  6.879777  9.248826  4.519724   \n",
       "1  5002  8.965788  3.356338  0.033176  4.635389  0.949219  8.393575  9.123983   \n",
       "2  5003  0.357830  7.310457  2.808629  0.971675  6.620750  5.922441  8.695757   \n",
       "3  5004  2.032347  0.323524  4.896318  5.633193  9.503114  6.420747  8.057582   \n",
       "4  5005  7.065014  4.177490  1.316311  0.158859  9.546206  5.090943  3.310969   \n",
       "\n",
       "          H         I         J   W   X   Y   Z  \n",
       "0  2.590571  8.210194  6.393657 NaN NaN NaN NaN  \n",
       "1  8.771116  6.885759  5.845078 NaN NaN NaN NaN  \n",
       "2  6.048115  1.495459  8.933486 NaN NaN NaN NaN  \n",
       "3  3.956517  4.850972  0.398676 NaN NaN NaN NaN  \n",
       "4  4.706232  4.697675  8.102370 NaN NaN NaN NaN  "
      ]
     },
     "execution_count": 5,
     "metadata": {},
     "output_type": "execute_result"
    }
   ],
   "source": [
    "TEST.head()"
   ]
  },
  {
   "cell_type": "code",
   "execution_count": 6,
   "metadata": {
    "collapsed": false
   },
   "outputs": [],
   "source": [
    "# Randomly separate the TRAIN data set into a smaller \"train\" and \"test\" pair:\n",
    "train_test = sklearn.cross_validation.train_test_split(TRAIN,train_size=0.6)\n",
    "train,test = train_test[0], train_test[1]"
   ]
  },
  {
   "cell_type": "code",
   "execution_count": 7,
   "metadata": {
    "collapsed": false
   },
   "outputs": [
    {
     "name": "stdout",
     "output_type": "stream",
     "text": [
      "3000\n",
      "2000\n"
     ]
    }
   ],
   "source": [
    "print(len(train))\n",
    "print(len(test))"
   ]
  },
  {
   "cell_type": "code",
   "execution_count": 8,
   "metadata": {
    "collapsed": false
   },
   "outputs": [
    {
     "data": {
      "text/html": [
       "<div>\n",
       "<table border=\"1\" class=\"dataframe\">\n",
       "  <thead>\n",
       "    <tr style=\"text-align: right;\">\n",
       "      <th></th>\n",
       "      <th>const</th>\n",
       "      <th>A</th>\n",
       "      <th>B</th>\n",
       "      <th>C</th>\n",
       "      <th>D</th>\n",
       "      <th>E</th>\n",
       "      <th>F</th>\n",
       "      <th>G</th>\n",
       "      <th>H</th>\n",
       "      <th>I</th>\n",
       "      <th>J</th>\n",
       "    </tr>\n",
       "  </thead>\n",
       "  <tbody>\n",
       "    <tr>\n",
       "      <th>1321</th>\n",
       "      <td>1</td>\n",
       "      <td>6.871089</td>\n",
       "      <td>4.848375</td>\n",
       "      <td>9.372727</td>\n",
       "      <td>9.718109</td>\n",
       "      <td>0.481227</td>\n",
       "      <td>4.891415</td>\n",
       "      <td>0.583836</td>\n",
       "      <td>4.101684</td>\n",
       "      <td>8.523094</td>\n",
       "      <td>1.871287</td>\n",
       "    </tr>\n",
       "    <tr>\n",
       "      <th>1413</th>\n",
       "      <td>1</td>\n",
       "      <td>8.915493</td>\n",
       "      <td>7.651204</td>\n",
       "      <td>5.321793</td>\n",
       "      <td>4.983212</td>\n",
       "      <td>3.041370</td>\n",
       "      <td>8.929332</td>\n",
       "      <td>6.404992</td>\n",
       "      <td>2.606503</td>\n",
       "      <td>4.025611</td>\n",
       "      <td>2.397728</td>\n",
       "    </tr>\n",
       "    <tr>\n",
       "      <th>3646</th>\n",
       "      <td>1</td>\n",
       "      <td>1.662238</td>\n",
       "      <td>7.907010</td>\n",
       "      <td>7.628923</td>\n",
       "      <td>1.663269</td>\n",
       "      <td>7.255837</td>\n",
       "      <td>2.420565</td>\n",
       "      <td>8.667676</td>\n",
       "      <td>4.212992</td>\n",
       "      <td>5.646420</td>\n",
       "      <td>7.485948</td>\n",
       "    </tr>\n",
       "    <tr>\n",
       "      <th>2835</th>\n",
       "      <td>1</td>\n",
       "      <td>5.560372</td>\n",
       "      <td>0.947196</td>\n",
       "      <td>5.563594</td>\n",
       "      <td>2.187112</td>\n",
       "      <td>5.782210</td>\n",
       "      <td>6.115660</td>\n",
       "      <td>3.851429</td>\n",
       "      <td>4.604526</td>\n",
       "      <td>3.783895</td>\n",
       "      <td>2.818476</td>\n",
       "    </tr>\n",
       "    <tr>\n",
       "      <th>2677</th>\n",
       "      <td>1</td>\n",
       "      <td>9.799790</td>\n",
       "      <td>6.847072</td>\n",
       "      <td>2.864799</td>\n",
       "      <td>9.578203</td>\n",
       "      <td>8.432983</td>\n",
       "      <td>5.880619</td>\n",
       "      <td>3.851262</td>\n",
       "      <td>5.839515</td>\n",
       "      <td>7.172153</td>\n",
       "      <td>3.295649</td>\n",
       "    </tr>\n",
       "  </tbody>\n",
       "</table>\n",
       "</div>"
      ],
      "text/plain": [
       "      const         A         B         C         D         E         F  \\\n",
       "1321      1  6.871089  4.848375  9.372727  9.718109  0.481227  4.891415   \n",
       "1413      1  8.915493  7.651204  5.321793  4.983212  3.041370  8.929332   \n",
       "3646      1  1.662238  7.907010  7.628923  1.663269  7.255837  2.420565   \n",
       "2835      1  5.560372  0.947196  5.563594  2.187112  5.782210  6.115660   \n",
       "2677      1  9.799790  6.847072  2.864799  9.578203  8.432983  5.880619   \n",
       "\n",
       "             G         H         I         J  \n",
       "1321  0.583836  4.101684  8.523094  1.871287  \n",
       "1413  6.404992  2.606503  4.025611  2.397728  \n",
       "3646  8.667676  4.212992  5.646420  7.485948  \n",
       "2835  3.851429  4.604526  3.783895  2.818476  \n",
       "2677  3.851262  5.839515  7.172153  3.295649  "
      ]
     },
     "execution_count": 8,
     "metadata": {},
     "output_type": "execute_result"
    }
   ],
   "source": [
    "# Create a multi-variate linear regression on the \"train\" subset:\n",
    "\n",
    "YVar  = 'X'\n",
    "XVars = ['A','B','C','D','E','F','G','H','I','J'] \n",
    "\n",
    "y1 = train[YVar]\n",
    "X1 = train[XVars]\n",
    "X1 = sm.add_constant(X1)\n",
    "\n",
    "y2 = test[YVar]\n",
    "X2 = test[XVars]\n",
    "X2 = sm.add_constant(X2)\n",
    "\n",
    "X1.head()"
   ]
  },
  {
   "cell_type": "code",
   "execution_count": 9,
   "metadata": {
    "collapsed": true
   },
   "outputs": [],
   "source": [
    "# Fit the Model:\n",
    "model = sm.OLS(y1, X1).fit()"
   ]
  },
  {
   "cell_type": "code",
   "execution_count": 10,
   "metadata": {
    "collapsed": false
   },
   "outputs": [
    {
     "data": {
      "text/html": [
       "<table class=\"simpletable\">\n",
       "<caption>OLS Regression Results</caption>\n",
       "<tr>\n",
       "  <th>Dep. Variable:</th>            <td>X</td>        <th>  R-squared:         </th> <td>   0.647</td> \n",
       "</tr>\n",
       "<tr>\n",
       "  <th>Model:</th>                   <td>OLS</td>       <th>  Adj. R-squared:    </th> <td>   0.646</td> \n",
       "</tr>\n",
       "<tr>\n",
       "  <th>Method:</th>             <td>Least Squares</td>  <th>  F-statistic:       </th> <td>   548.0</td> \n",
       "</tr>\n",
       "<tr>\n",
       "  <th>Date:</th>             <td>Tue, 26 Jan 2016</td> <th>  Prob (F-statistic):</th>  <td>  0.00</td>  \n",
       "</tr>\n",
       "<tr>\n",
       "  <th>Time:</th>                 <td>17:30:27</td>     <th>  Log-Likelihood:    </th> <td> -8559.9</td> \n",
       "</tr>\n",
       "<tr>\n",
       "  <th>No. Observations:</th>      <td>  3000</td>      <th>  AIC:               </th> <td>1.714e+04</td>\n",
       "</tr>\n",
       "<tr>\n",
       "  <th>Df Residuals:</th>          <td>  2989</td>      <th>  BIC:               </th> <td>1.721e+04</td>\n",
       "</tr>\n",
       "<tr>\n",
       "  <th>Df Model:</th>              <td>    10</td>      <th>                     </th>     <td> </td>    \n",
       "</tr>\n",
       "<tr>\n",
       "  <th>Covariance Type:</th>      <td>nonrobust</td>    <th>                     </th>     <td> </td>    \n",
       "</tr>\n",
       "</table>\n",
       "<table class=\"simpletable\">\n",
       "<tr>\n",
       "    <td></td>       <th>coef</th>     <th>std err</th>      <th>t</th>      <th>P>|t|</th> <th>[95.0% Conf. Int.]</th> \n",
       "</tr>\n",
       "<tr>\n",
       "  <th>const</th> <td>   -9.9512</td> <td>    0.430</td> <td>  -23.161</td> <td> 0.000</td> <td>  -10.794    -9.109</td>\n",
       "</tr>\n",
       "<tr>\n",
       "  <th>A</th>     <td>    0.6539</td> <td>    0.027</td> <td>   24.364</td> <td> 0.000</td> <td>    0.601     0.707</td>\n",
       "</tr>\n",
       "<tr>\n",
       "  <th>B</th>     <td>    0.7518</td> <td>    0.027</td> <td>   28.011</td> <td> 0.000</td> <td>    0.699     0.804</td>\n",
       "</tr>\n",
       "<tr>\n",
       "  <th>C</th>     <td>   -0.7231</td> <td>    0.027</td> <td>  -26.580</td> <td> 0.000</td> <td>   -0.776    -0.670</td>\n",
       "</tr>\n",
       "<tr>\n",
       "  <th>D</th>     <td>    0.3187</td> <td>    0.027</td> <td>   11.979</td> <td> 0.000</td> <td>    0.267     0.371</td>\n",
       "</tr>\n",
       "<tr>\n",
       "  <th>E</th>     <td>   -0.8840</td> <td>    0.027</td> <td>  -33.099</td> <td> 0.000</td> <td>   -0.936    -0.832</td>\n",
       "</tr>\n",
       "<tr>\n",
       "  <th>F</th>     <td>   -1.2004</td> <td>    0.026</td> <td>  -45.347</td> <td> 0.000</td> <td>   -1.252    -1.149</td>\n",
       "</tr>\n",
       "<tr>\n",
       "  <th>G</th>     <td>    0.0209</td> <td>    0.027</td> <td>    0.783</td> <td> 0.434</td> <td>   -0.031     0.073</td>\n",
       "</tr>\n",
       "<tr>\n",
       "  <th>H</th>     <td>   -0.0475</td> <td>    0.027</td> <td>   -1.754</td> <td> 0.080</td> <td>   -0.101     0.006</td>\n",
       "</tr>\n",
       "<tr>\n",
       "  <th>I</th>     <td>    0.0051</td> <td>    0.027</td> <td>    0.189</td> <td> 0.850</td> <td>   -0.048     0.058</td>\n",
       "</tr>\n",
       "<tr>\n",
       "  <th>J</th>     <td>    0.0168</td> <td>    0.026</td> <td>    0.636</td> <td> 0.525</td> <td>   -0.035     0.068</td>\n",
       "</tr>\n",
       "</table>\n",
       "<table class=\"simpletable\">\n",
       "<tr>\n",
       "  <th>Omnibus:</th>       <td>32.508</td> <th>  Durbin-Watson:     </th> <td>   1.953</td>\n",
       "</tr>\n",
       "<tr>\n",
       "  <th>Prob(Omnibus):</th> <td> 0.000</td> <th>  Jarque-Bera (JB):  </th> <td>  20.877</td>\n",
       "</tr>\n",
       "<tr>\n",
       "  <th>Skew:</th>          <td>-0.030</td> <th>  Prob(JB):          </th> <td>2.93e-05</td>\n",
       "</tr>\n",
       "<tr>\n",
       "  <th>Kurtosis:</th>      <td> 2.596</td> <th>  Cond. No.          </th> <td>    90.2</td>\n",
       "</tr>\n",
       "</table>"
      ],
      "text/plain": [
       "<class 'statsmodels.iolib.summary.Summary'>\n",
       "\"\"\"\n",
       "                            OLS Regression Results                            \n",
       "==============================================================================\n",
       "Dep. Variable:                      X   R-squared:                       0.647\n",
       "Model:                            OLS   Adj. R-squared:                  0.646\n",
       "Method:                 Least Squares   F-statistic:                     548.0\n",
       "Date:                Tue, 26 Jan 2016   Prob (F-statistic):               0.00\n",
       "Time:                        17:30:27   Log-Likelihood:                -8559.9\n",
       "No. Observations:                3000   AIC:                         1.714e+04\n",
       "Df Residuals:                    2989   BIC:                         1.721e+04\n",
       "Df Model:                          10                                         \n",
       "Covariance Type:            nonrobust                                         \n",
       "==============================================================================\n",
       "                 coef    std err          t      P>|t|      [95.0% Conf. Int.]\n",
       "------------------------------------------------------------------------------\n",
       "const         -9.9512      0.430    -23.161      0.000       -10.794    -9.109\n",
       "A              0.6539      0.027     24.364      0.000         0.601     0.707\n",
       "B              0.7518      0.027     28.011      0.000         0.699     0.804\n",
       "C             -0.7231      0.027    -26.580      0.000        -0.776    -0.670\n",
       "D              0.3187      0.027     11.979      0.000         0.267     0.371\n",
       "E             -0.8840      0.027    -33.099      0.000        -0.936    -0.832\n",
       "F             -1.2004      0.026    -45.347      0.000        -1.252    -1.149\n",
       "G              0.0209      0.027      0.783      0.434        -0.031     0.073\n",
       "H             -0.0475      0.027     -1.754      0.080        -0.101     0.006\n",
       "I              0.0051      0.027      0.189      0.850        -0.048     0.058\n",
       "J              0.0168      0.026      0.636      0.525        -0.035     0.068\n",
       "==============================================================================\n",
       "Omnibus:                       32.508   Durbin-Watson:                   1.953\n",
       "Prob(Omnibus):                  0.000   Jarque-Bera (JB):               20.877\n",
       "Skew:                          -0.030   Prob(JB):                     2.93e-05\n",
       "Kurtosis:                       2.596   Cond. No.                         90.2\n",
       "==============================================================================\n",
       "\n",
       "Warnings:\n",
       "[1] Standard Errors assume that the covariance matrix of the errors is correctly specified.\n",
       "\"\"\""
      ]
     },
     "execution_count": 10,
     "metadata": {},
     "output_type": "execute_result"
    }
   ],
   "source": [
    "# Check for internal validity:\n",
    "model.summary()"
   ]
  },
  {
   "cell_type": "code",
   "execution_count": 11,
   "metadata": {
    "collapsed": false
   },
   "outputs": [
    {
     "name": "stdout",
     "output_type": "stream",
     "text": [
      "P-Value:  0.0\n",
      "P-Corr:   0.821256588699\n",
      "R-Squared 0.674462384482\n"
     ]
    }
   ],
   "source": [
    "# Predict output values for \"test\" using the model trained on \"train\":\n",
    "preds = model.predict(X2) # preds == predictions for y in the \"test\" subset.\n",
    "\n",
    "# Test the accuracy of the created model on the \"test\" subset:\n",
    "actual = y2 # the ACTUAL y-values for the \"test\" subset.\n",
    "\n",
    "# Calculate the correlation:\n",
    "result = pearsonr(preds, actual)\n",
    "cor = result[0]\n",
    "sig = result[1]\n",
    "rsquared = cor**2\n",
    "\n",
    "print('P-Value: ',sig)\n",
    "print('P-Corr:  ',cor)\n",
    "print('R-Squared',rsquared)"
   ]
  },
  {
   "cell_type": "code",
   "execution_count": 12,
   "metadata": {
    "collapsed": false
   },
   "outputs": [
    {
     "data": {
      "text/html": [
       "<table class=\"simpletable\">\n",
       "<caption>OLS Regression Results</caption>\n",
       "<tr>\n",
       "  <th>Dep. Variable:</th>            <td>X</td>        <th>  R-squared:         </th> <td>   0.942</td> \n",
       "</tr>\n",
       "<tr>\n",
       "  <th>Model:</th>                   <td>OLS</td>       <th>  Adj. R-squared:    </th> <td>   0.942</td> \n",
       "</tr>\n",
       "<tr>\n",
       "  <th>Method:</th>             <td>Least Squares</td>  <th>  F-statistic:       </th> <td>3.244e+04</td>\n",
       "</tr>\n",
       "<tr>\n",
       "  <th>Date:</th>             <td>Tue, 26 Jan 2016</td> <th>  Prob (F-statistic):</th>  <td>  0.00</td>  \n",
       "</tr>\n",
       "<tr>\n",
       "  <th>Time:</th>                 <td>17:30:28</td>     <th>  Log-Likelihood:    </th> <td> -5622.4</td> \n",
       "</tr>\n",
       "<tr>\n",
       "  <th>No. Observations:</th>      <td>  2000</td>      <th>  AIC:               </th> <td>1.125e+04</td>\n",
       "</tr>\n",
       "<tr>\n",
       "  <th>Df Residuals:</th>          <td>  1999</td>      <th>  BIC:               </th> <td>1.125e+04</td>\n",
       "</tr>\n",
       "<tr>\n",
       "  <th>Df Model:</th>              <td>     1</td>      <th>                     </th>     <td> </td>    \n",
       "</tr>\n",
       "<tr>\n",
       "  <th>Covariance Type:</th>      <td>nonrobust</td>    <th>                     </th>     <td> </td>    \n",
       "</tr>\n",
       "</table>\n",
       "<table class=\"simpletable\">\n",
       "<tr>\n",
       "   <td></td>     <th>coef</th>     <th>std err</th>      <th>t</th>      <th>P>|t|</th> <th>[95.0% Conf. Int.]</th> \n",
       "</tr>\n",
       "<tr>\n",
       "  <th>x1</th> <td>    0.9880</td> <td>    0.005</td> <td>  180.117</td> <td> 0.000</td> <td>    0.977     0.999</td>\n",
       "</tr>\n",
       "</table>\n",
       "<table class=\"simpletable\">\n",
       "<tr>\n",
       "  <th>Omnibus:</th>       <td> 5.530</td> <th>  Durbin-Watson:     </th> <td>   2.030</td>\n",
       "</tr>\n",
       "<tr>\n",
       "  <th>Prob(Omnibus):</th> <td> 0.063</td> <th>  Jarque-Bera (JB):  </th> <td>   4.729</td>\n",
       "</tr>\n",
       "<tr>\n",
       "  <th>Skew:</th>          <td>-0.042</td> <th>  Prob(JB):          </th> <td>  0.0940</td>\n",
       "</tr>\n",
       "<tr>\n",
       "  <th>Kurtosis:</th>      <td> 2.777</td> <th>  Cond. No.          </th> <td>    1.00</td>\n",
       "</tr>\n",
       "</table>"
      ],
      "text/plain": [
       "<class 'statsmodels.iolib.summary.Summary'>\n",
       "\"\"\"\n",
       "                            OLS Regression Results                            \n",
       "==============================================================================\n",
       "Dep. Variable:                      X   R-squared:                       0.942\n",
       "Model:                            OLS   Adj. R-squared:                  0.942\n",
       "Method:                 Least Squares   F-statistic:                 3.244e+04\n",
       "Date:                Tue, 26 Jan 2016   Prob (F-statistic):               0.00\n",
       "Time:                        17:30:28   Log-Likelihood:                -5622.4\n",
       "No. Observations:                2000   AIC:                         1.125e+04\n",
       "Df Residuals:                    1999   BIC:                         1.125e+04\n",
       "Df Model:                           1                                         \n",
       "Covariance Type:            nonrobust                                         \n",
       "==============================================================================\n",
       "                 coef    std err          t      P>|t|      [95.0% Conf. Int.]\n",
       "------------------------------------------------------------------------------\n",
       "x1             0.9880      0.005    180.117      0.000         0.977     0.999\n",
       "==============================================================================\n",
       "Omnibus:                        5.530   Durbin-Watson:                   2.030\n",
       "Prob(Omnibus):                  0.063   Jarque-Bera (JB):                4.729\n",
       "Skew:                          -0.042   Prob(JB):                       0.0940\n",
       "Kurtosis:                       2.777   Cond. No.                         1.00\n",
       "==============================================================================\n",
       "\n",
       "Warnings:\n",
       "[1] Standard Errors assume that the covariance matrix of the errors is correctly specified.\n",
       "\"\"\""
      ]
     },
     "execution_count": 12,
     "metadata": {},
     "output_type": "execute_result"
    }
   ],
   "source": [
    "# Measure Goodness-of-Fit for the model using R-Squared:\n",
    "model = sm.OLS(actual, preds).fit()\n",
    "model.summary()"
   ]
  },
  {
   "cell_type": "code",
   "execution_count": 16,
   "metadata": {
    "collapsed": false
   },
   "outputs": [
    {
     "name": "stderr",
     "output_type": "stream",
     "text": [
      "/Users/jar/anaconda/lib/python3.5/site-packages/matplotlib/collections.py:590: FutureWarning: elementwise comparison failed; returning scalar instead, but in the future will perform elementwise comparison\n",
      "  if self._edgecolors == str('face'):\n"
     ]
    },
    {
     "data": {
      "image/png": "[encoded data removed]",
      "text/plain": [
       "<matplotlib.figure.Figure at 0x10d79a710>"
      ]
     },
     "metadata": {},
     "output_type": "display_data"
    }
   ],
   "source": [
    "plt.clf()\n",
    "plt.scatter(preds, actual , s=25,color='green', alpha=0.3)\n",
    "plt.plot(preds, preds, color='blue',label=str('Where Prediction == Actual'),linewidth=1)\n",
    "plt.ylabel('Actual Values')\n",
    "plt.xlabel('Predicted Values')\n",
    "plt.title('\"Goodness-of-Fit\" Plot')\n",
    "plt.legend(loc=0)\n",
    "plt.show()"
   ]
  },
  {
   "cell_type": "code",
   "execution_count": 17,
   "metadata": {
    "collapsed": true
   },
   "outputs": [],
   "source": [
    "# Apply the satisfactory model to the REAL TEST set.\n",
    "\n",
    "YVar  = 'X'\n",
    "XVars = ['A','B','C','D','E','F','G','H','I','J'] \n",
    "\n",
    "y1 = TRAIN[YVar]\n",
    "X1 = TRAIN[XVars]\n",
    "X1 = sm.add_constant(X1)\n",
    "\n",
    "y2 = TEST[YVar]\n",
    "X2 = TEST[XVars]\n",
    "X2 = sm.add_constant(X2)\n",
    "\n",
    "model = sm.OLS(y1, X1).fit()\n",
    "preds = preds = model.predict(X2)\n",
    "TEST[YVar] = preds"
   ]
  },
  {
   "cell_type": "code",
   "execution_count": 18,
   "metadata": {
    "collapsed": true
   },
   "outputs": [],
   "source": [
    "# Output The Rendered DataFrame to a CSV:\n",
    "fn = 'DATA/AUDITION/SUBMISSION.csv'\n",
    "TEST.to_csv(fn)"
   ]
  },
  {
   "cell_type": "code",
   "execution_count": null,
   "metadata": {
    "collapsed": true
   },
   "outputs": [],
   "source": [
    "print('ALL DONE!!!')"
   ]
  }
 ],
 "metadata": {
  "kernelspec": {
   "display_name": "Python 3",
   "language": "python",
   "name": "python3"
  },
  "language_info": {
   "codemirror_mode": {
    "name": "ipython",
    "version": 3
   },
   "file_extension": ".py",
   "mimetype": "text/x-python",
   "name": "python",
   "nbconvert_exporter": "python",
   "pygments_lexer": "ipython3",
   "version": "3.5.0"
  }
 },
 "nbformat": 4,
 "nbformat_minor": 0
}
