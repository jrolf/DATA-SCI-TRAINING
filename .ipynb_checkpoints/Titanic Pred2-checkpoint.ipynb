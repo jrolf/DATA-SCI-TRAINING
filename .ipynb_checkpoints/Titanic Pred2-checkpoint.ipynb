{
 "cells": [
  {
   "cell_type": "code",
   "execution_count": 5,
   "metadata": {
    "collapsed": true
   },
   "outputs": [],
   "source": [
    "%matplotlib inline\n",
    "import os,csv,codecs\n",
    "import pandas  as pd\n",
    "import numpy   as np\n",
    "import sklearn as sk\n",
    "\n",
    "import sklearn\n",
    "from sklearn import preprocessing\n",
    "from sklearn import decomposition\n",
    "\n",
    "import matplotlib.pyplot as plt\n",
    "from scipy.stats.stats import pearsonr\n",
    "import statsmodels.api as sm  \n",
    "\n",
    "from sklearn.ensemble import GradientBoostingRegressor as GBR\n",
    "from sklearn.ensemble import RandomForestRegressor     as RFR"
   ]
  },
  {
   "cell_type": "code",
   "execution_count": 6,
   "metadata": {
    "collapsed": true
   },
   "outputs": [],
   "source": [
    "# Load TRAIN data  ## Has both Input and Output variables.\n",
    "fn1 = 'train.csv'\n",
    "TRAIN = pd.read_csv(fn1,low_memory=False)\n",
    "\n",
    "# Load TEST data  ## Has ONLY Input Variables. (Goal is to render Outputs for this.)\n",
    "fn2 = 'test.csv'\n",
    "TEST = pd.read_csv(fn2,low_memory=False)\n"
   ]
  },
  {
   "cell_type": "code",
   "execution_count": 7,
   "metadata": {
    "collapsed": false
   },
   "outputs": [
    {
     "name": "stdout",
     "output_type": "stream",
     "text": [
      "891\n",
      "342\n",
      "38.3838383838\n"
     ]
    }
   ],
   "source": [
    "print len(TRAIN['Survived'])\n",
    "print sum(TRAIN['Survived'])\n",
    "print 100*sum(TRAIN['Survived'])/float(len(TRAIN['Survived'])) "
   ]
  },
  {
   "cell_type": "code",
   "execution_count": 8,
   "metadata": {
    "collapsed": true
   },
   "outputs": [],
   "source": [
    "YVar  = 'Survived'\n",
    "XVars = [\n",
    "    'Pclass',\n",
    "    'Age',\n",
    "    'From35',\n",
    "    'SibSp',\n",
    "    'Parch',\n",
    "    'Fare',\n",
    "    'Male',  ]\n",
    "\n",
    "Male = [1 if val=='male' else 0 for val in TRAIN['Sex']]\n",
    "TRAIN['Male'] = Male\n",
    "\n",
    "TRAIN['Age'].fillna(TRAIN['Age'].mean(), inplace=True)\n",
    "From35 = [abs(age-35) for age in TRAIN['Age']]\n",
    "TRAIN['From35'] = From35 \n",
    "\n",
    "# Replace any \"NaN\" values with the mean of the remaining values:\n",
    "for varname in XVars:\n",
    "    TRAIN[varname].fillna(TRAIN[varname].mean(), inplace=True)\n",
    "    \n",
    "#########################################################################\n",
    "    \n",
    "Male = [1 if val=='male' else 0 for val in TEST['Sex']]\n",
    "TEST['Male'] = Male\n",
    "\n",
    "TEST['Age'].fillna(TEST['Age'].mean(), inplace=True)\n",
    "From35 = [abs(age-35) for age in TEST['Age']]\n",
    "TEST['From35'] = From35 \n",
    "\n",
    "# Replace any \"NaN\" values with the mean of the remaining values:\n",
    "for varname in XVars:\n",
    "    TEST[varname].fillna(TEST[varname].mean(), inplace=True)\n",
    "    "
   ]
  },
  {
   "cell_type": "code",
   "execution_count": 13,
   "metadata": {
    "collapsed": false
   },
   "outputs": [
    {
     "data": {
      "text/html": [
       "<div>\n",
       "<table border=\"1\" class=\"dataframe\">\n",
       "  <thead>\n",
       "    <tr style=\"text-align: right;\">\n",
       "      <th></th>\n",
       "      <th>Pclass</th>\n",
       "      <th>Age</th>\n",
       "      <th>From35</th>\n",
       "      <th>SibSp</th>\n",
       "      <th>Parch</th>\n",
       "      <th>Fare</th>\n",
       "      <th>Male</th>\n",
       "    </tr>\n",
       "  </thead>\n",
       "  <tbody>\n",
       "    <tr>\n",
       "      <th>0</th>\n",
       "      <td>3</td>\n",
       "      <td>22</td>\n",
       "      <td>13</td>\n",
       "      <td>1</td>\n",
       "      <td>0</td>\n",
       "      <td>7.2500</td>\n",
       "      <td>1</td>\n",
       "    </tr>\n",
       "    <tr>\n",
       "      <th>1</th>\n",
       "      <td>1</td>\n",
       "      <td>38</td>\n",
       "      <td>3</td>\n",
       "      <td>1</td>\n",
       "      <td>0</td>\n",
       "      <td>71.2833</td>\n",
       "      <td>0</td>\n",
       "    </tr>\n",
       "    <tr>\n",
       "      <th>2</th>\n",
       "      <td>3</td>\n",
       "      <td>26</td>\n",
       "      <td>9</td>\n",
       "      <td>0</td>\n",
       "      <td>0</td>\n",
       "      <td>7.9250</td>\n",
       "      <td>0</td>\n",
       "    </tr>\n",
       "    <tr>\n",
       "      <th>3</th>\n",
       "      <td>1</td>\n",
       "      <td>35</td>\n",
       "      <td>0</td>\n",
       "      <td>1</td>\n",
       "      <td>0</td>\n",
       "      <td>53.1000</td>\n",
       "      <td>0</td>\n",
       "    </tr>\n",
       "    <tr>\n",
       "      <th>4</th>\n",
       "      <td>3</td>\n",
       "      <td>35</td>\n",
       "      <td>0</td>\n",
       "      <td>0</td>\n",
       "      <td>0</td>\n",
       "      <td>8.0500</td>\n",
       "      <td>1</td>\n",
       "    </tr>\n",
       "  </tbody>\n",
       "</table>\n",
       "</div>"
      ],
      "text/plain": [
       "   Pclass  Age  From35  SibSp  Parch     Fare  Male\n",
       "0       3   22      13      1      0   7.2500     1\n",
       "1       1   38       3      1      0  71.2833     0\n",
       "2       3   26       9      0      0   7.9250     0\n",
       "3       1   35       0      1      0  53.1000     0\n",
       "4       3   35       0      0      0   8.0500     1"
      ]
     },
     "execution_count": 13,
     "metadata": {},
     "output_type": "execute_result"
    }
   ],
   "source": [
    "y1 = TRAIN[YVar]\n",
    "X1 = TRAIN[XVars]\n",
    "X1.head()"
   ]
  },
  {
   "cell_type": "code",
   "execution_count": 12,
   "metadata": {
    "collapsed": false
   },
   "outputs": [
    {
     "data": {
      "text/html": [
       "<div>\n",
       "<table border=\"1\" class=\"dataframe\">\n",
       "  <thead>\n",
       "    <tr style=\"text-align: right;\">\n",
       "      <th></th>\n",
       "      <th>Pclass</th>\n",
       "      <th>Age</th>\n",
       "      <th>From35</th>\n",
       "      <th>SibSp</th>\n",
       "      <th>Parch</th>\n",
       "      <th>Fare</th>\n",
       "      <th>Male</th>\n",
       "    </tr>\n",
       "  </thead>\n",
       "  <tbody>\n",
       "    <tr>\n",
       "      <th>0</th>\n",
       "      <td>3</td>\n",
       "      <td>34.5</td>\n",
       "      <td>0.5</td>\n",
       "      <td>0</td>\n",
       "      <td>0</td>\n",
       "      <td>7.8292</td>\n",
       "      <td>1</td>\n",
       "    </tr>\n",
       "    <tr>\n",
       "      <th>1</th>\n",
       "      <td>3</td>\n",
       "      <td>47.0</td>\n",
       "      <td>12.0</td>\n",
       "      <td>1</td>\n",
       "      <td>0</td>\n",
       "      <td>7.0000</td>\n",
       "      <td>0</td>\n",
       "    </tr>\n",
       "    <tr>\n",
       "      <th>2</th>\n",
       "      <td>2</td>\n",
       "      <td>62.0</td>\n",
       "      <td>27.0</td>\n",
       "      <td>0</td>\n",
       "      <td>0</td>\n",
       "      <td>9.6875</td>\n",
       "      <td>1</td>\n",
       "    </tr>\n",
       "    <tr>\n",
       "      <th>3</th>\n",
       "      <td>3</td>\n",
       "      <td>27.0</td>\n",
       "      <td>8.0</td>\n",
       "      <td>0</td>\n",
       "      <td>0</td>\n",
       "      <td>8.6625</td>\n",
       "      <td>1</td>\n",
       "    </tr>\n",
       "    <tr>\n",
       "      <th>4</th>\n",
       "      <td>3</td>\n",
       "      <td>22.0</td>\n",
       "      <td>13.0</td>\n",
       "      <td>1</td>\n",
       "      <td>1</td>\n",
       "      <td>12.2875</td>\n",
       "      <td>0</td>\n",
       "    </tr>\n",
       "  </tbody>\n",
       "</table>\n",
       "</div>"
      ],
      "text/plain": [
       "   Pclass   Age  From35  SibSp  Parch     Fare  Male\n",
       "0       3  34.5     0.5      0      0   7.8292     1\n",
       "1       3  47.0    12.0      1      0   7.0000     0\n",
       "2       2  62.0    27.0      0      0   9.6875     1\n",
       "3       3  27.0     8.0      0      0   8.6625     1\n",
       "4       3  22.0    13.0      1      1  12.2875     0"
      ]
     },
     "execution_count": 12,
     "metadata": {},
     "output_type": "execute_result"
    }
   ],
   "source": [
    "X2 = TEST[XVars]\n",
    "X2.head()"
   ]
  },
  {
   "cell_type": "code",
   "execution_count": 14,
   "metadata": {
    "collapsed": true
   },
   "outputs": [],
   "source": [
    "# Fit the Model:"
   ]
  },
  {
   "cell_type": "code",
   "execution_count": 15,
   "metadata": {
    "collapsed": false
   },
   "outputs": [],
   "source": [
    "# Create and fit the model:\n",
    "model = GBR() #<<<<<<<<<<<<<<<\n",
    "model.fit(X1, y1)\n",
    "\n",
    "# Calculate the predictions:\n",
    "preds = model.predict(X2)"
   ]
  },
  {
   "cell_type": "code",
   "execution_count": 16,
   "metadata": {
    "collapsed": false,
    "scrolled": true
   },
   "outputs": [
    {
     "data": {
      "text/plain": [
       "array([ 0.09578169,  0.04657327,  0.16755505,  0.2873943 ,  0.48921309,\n",
       "        0.15278329,  0.5754921 ,  0.23067796,  0.81870981,  0.09857416,\n",
       "        0.03346997,  0.2202432 ,  0.95172112,  0.19655603,  0.88672095,\n",
       "        0.83454175,  0.12105355,  0.11783192,  0.5621565 ,  0.31941615,\n",
       "        0.28431621,  0.64605313,  0.99923648,  0.34908381,  1.05261245,\n",
       "        0.05450377,  0.95472819,  0.11424455,  0.39477618,  0.08844692,\n",
       "        0.07929361,  0.25911184,  0.56384708,  0.2816449 ,  0.46946254,\n",
       "        0.11783192,  0.30510255,  0.32762349,  0.10330053,  0.38525975,\n",
       "        0.09706406,  0.42000357,  0.08243703,  0.88514362,  0.96846037,\n",
       "        0.1603681 ,  0.32349582,  0.06550874,  0.93314236,  0.56776966,\n",
       "        0.34786197,  0.22733219,  0.85383579,  0.87496962,  0.10778437,\n",
       "       -0.00384185,  0.06688278,  0.11601195,  0.10370806,  1.06613884,\n",
       "        0.08450491,  0.22956804,  0.10863699,  0.69370826,  0.60617184,\n",
       "        0.86579526,  0.67851667,  0.22380215,  0.42153341,  0.93519884,\n",
       "        0.67209923,  0.08167484,  0.47554119,  0.35350398,  1.02233273,\n",
       "        0.24693955,  0.08436696,  0.85963462,  0.13560078,  0.67209923,\n",
       "        0.8970943 , -0.13959289,  0.26466137,  0.03346997,  0.08436696,\n",
       "        0.0636798 ,  0.85414548,  0.34040776,  0.31667548,  0.98673277,\n",
       "        0.48921309,  0.06550874,  0.97214179,  0.08436696,  0.27795773,\n",
       "        0.11396992,  0.77779185,  0.17944037,  0.67851667,  0.11777977,\n",
       "        1.00957728,  0.21293647,  0.06550874,  0.16367426,  0.35235628,\n",
       "        0.14565936,  0.10580692,  0.06550874,  0.08436696,  0.10124138,\n",
       "        0.08455047,  0.31667548,  1.07356918,  0.80872683,  1.03515831,\n",
       "        0.08372229, -0.01935862,  0.86114765,  0.5334672 ,  0.90080857,\n",
       "        0.88030903,  0.06143243,  1.02524701,  0.1102466 ,  0.06550874,\n",
       "        0.53940248,  0.10580692,  0.49292878,  0.10443511,  0.10150437,\n",
       "        0.22629426,  0.12850862,  0.04466547, -0.02343493,  0.05353811,\n",
       "        0.10221955,  0.35899927,  0.15627865,  0.33399032,  0.09910331,\n",
       "        0.10613537,  0.99274606,  0.09668438,  0.13857418,  0.44063459,\n",
       "        0.3734135 ,  0.25614177,  0.10509174,  0.42000357,  0.14458292,\n",
       "        0.95114082,  0.03346997,  0.19935408,  0.52119101,  0.2259813 ,\n",
       "        0.10426158,  0.93422263,  0.67209923,  0.44063459,  0.55407769,\n",
       "        0.31667548,  0.7558062 ,  0.88319184, -0.01935862,  0.10443511,\n",
       "        0.53356534,  0.28037937,  0.13642827,  0.89082548,  0.413982  ,\n",
       "        0.00702602,  0.35899927,  0.09718948,  0.05487449,  0.25103592,\n",
       "        0.95046491,  0.89668393,  0.3437863 ,  0.91610897,  0.90991216,\n",
       "        0.13560078,  0.39279488,  0.96603119,  0.06550874,  0.974085  ,\n",
       "        0.11642549,  0.86568657,  0.0950262 ,  0.01888405,  0.10443511,\n",
       "        0.14029513,  0.25902416,  0.45791308,  0.03769629,  0.7577869 ,\n",
       "        0.09578169,  0.9981871 ,  0.67851667,  0.09155017,  0.30510255,\n",
       "        0.51405147,  1.0582529 ,  0.12093173,  0.96704006,  0.10330053,\n",
       "        0.19871557,  0.3608934 ,  0.09155017,  0.96246496,  0.08983784,\n",
       "        0.24971167, -0.01935862,  0.20973985,  0.82463999,  0.59640593,\n",
       "        0.28321413,  0.31667548,  0.12238613,  0.94111508,  0.08436696,\n",
       "        0.85995412,  0.10509174,  0.8338011 ,  0.10580692,  0.7286384 ,\n",
       "        0.50558341,  0.10221955,  0.31667548,  0.08455047,  0.109447  ,\n",
       "        0.24067056,  0.99509137,  0.06738437,  0.05746083,  0.38396901,\n",
       "        0.10863699,  0.14640222,  0.11783192,  0.8211573 ,  0.99302705,\n",
       "        0.7286384 ,  0.91631066,  0.47955156,  0.04137666,  0.09662288,\n",
       "        0.29120163,  0.86568657,  0.18163862,  0.90080857,  0.44036566,\n",
       "        0.83625726,  0.15503517,  0.37142692,  0.09155017,  0.11777977,\n",
       "        0.00702602,  0.06550874,  0.12224195,  0.83990495,  0.10580692,\n",
       "        0.11489945,  0.10580692,  0.9137553 ,  0.85335017,  0.13560078,\n",
       "        0.03346997,  0.06818291,  0.00702602,  0.30510255,  0.0979676 ,\n",
       "        0.30597361,  0.06550874,  0.87648308,  0.50818992,  0.05487449,\n",
       "        0.86201175,  0.12224195,  0.105264  ,  0.1516681 ,  0.09513754,\n",
       "        0.32403612,  1.07739582,  0.31667548,  0.50090296,  0.77423004,\n",
       "        0.06355792,  0.04489152,  0.34786197,  0.05487449,  0.08436696,\n",
       "        0.25614177,  0.31496295,  0.05487449,  0.34740271,  0.10617322,\n",
       "        0.13954218,  0.85243909,  0.08844692,  0.30410181,  0.14094888,\n",
       "        0.20429619,  0.06775611,  0.11642549,  0.09155017,  0.31667548,\n",
       "        0.75931795,  0.19193982,  0.91877527,  0.30169071,  0.27422909,\n",
       "        0.0979676 ,  0.11783192,  0.00702602,  0.32397881,  0.91633184,\n",
       "        0.67851667,  0.26362013,  0.0979676 ,  0.29601617,  0.26269922,\n",
       "        0.16367426,  0.12599492,  0.15627865,  0.49260952,  0.98235839,\n",
       "        0.06143146,  0.87006351,  0.30597361,  0.14458292,  0.09841132,\n",
       "        0.91390107,  0.36311821,  0.05487449,  0.53998278,  0.2639774 ,\n",
       "        0.3069842 ,  0.22956804,  0.06443173,  0.28611701,  0.05487449,\n",
       "        0.0979676 ,  0.14581346, -0.00282813,  0.96776381,  0.0636798 ,\n",
       "        0.75278184,  0.15627865,  0.42836313,  0.09482394,  0.97169968,\n",
       "        0.93025314,  0.10330053,  0.17470237,  0.23883981,  0.88881006,\n",
       "        0.24176756,  0.92068956,  0.05746083,  0.06550874,  0.55614996,\n",
       "        0.07478322,  0.85731495,  0.97169968,  0.2873943 ,  1.01482539,\n",
       "        0.08410775,  0.0636798 ,  0.2503059 ,  0.93025314,  0.13560078,\n",
       "        0.10077685,  1.09131431,  0.14313426,  0.08185048,  0.95126185,\n",
       "        0.9672224 ,  0.29361471,  0.09841132,  0.19439907,  0.48475237,\n",
       "        0.06550874,  0.15562634,  0.46555515,  0.53998278,  0.08764074,\n",
       "        0.89592379,  0.10221955,  0.02637565,  0.10580692, -0.07920729,\n",
       "        0.36287094,  0.88662919,  0.62370784,  0.04502312, -0.09626086,\n",
       "        0.95813856,  0.10426158,  1.01564319,  0.10580692,  0.16827331,\n",
       "        0.93422263,  0.14498544,  0.95472819,  0.28190146,  0.31317483,\n",
       "        0.10124138,  0.0939157 ,  0.18547263,  0.25819275,  0.80142083,\n",
       "        0.31667548,  1.01068195,  0.68899314,  0.08436696,  0.96988903,\n",
       "        0.06833586,  0.08436696,  0.10370806])"
      ]
     },
     "execution_count": 16,
     "metadata": {},
     "output_type": "execute_result"
    }
   ],
   "source": [
    "preds"
   ]
  },
  {
   "cell_type": "code",
   "execution_count": 47,
   "metadata": {
    "collapsed": false,
    "scrolled": true
   },
   "outputs": [
    {
     "data": {
      "text/plain": [
       "array([0, 0, 0, 0, 1, 0, 1, 0, 1, 0, 0, 0, 1, 0, 1, 1, 0, 0, 1, 0, 0, 1, 1,\n",
       "       0, 1, 0, 1, 0, 1, 0, 0, 0, 1, 0, 1, 0, 0, 0, 0, 1, 0, 1, 0, 1, 1, 0,\n",
       "       0, 0, 1, 1, 0, 0, 1, 1, 0, 0, 0, 0, 0, 1, 0, 0, 0, 1, 1, 1, 1, 0, 1,\n",
       "       1, 1, 0, 1, 1, 1, 0, 0, 1, 0, 1, 1, 0, 0, 0, 0, 0, 1, 0, 0, 1, 1, 0,\n",
       "       1, 0, 0, 0, 1, 0, 1, 0, 1, 0, 0, 0, 1, 0, 0, 0, 0, 0, 0, 0, 1, 1, 1,\n",
       "       0, 0, 1, 1, 1, 1, 0, 1, 0, 0, 1, 0, 1, 0, 0, 0, 0, 0, 0, 0, 0, 1, 0,\n",
       "       0, 0, 0, 1, 0, 0, 1, 1, 0, 0, 1, 0, 1, 0, 0, 1, 0, 0, 1, 1, 1, 1, 0,\n",
       "       1, 1, 0, 0, 1, 0, 0, 1, 1, 0, 1, 0, 0, 0, 1, 1, 0, 1, 1, 0, 1, 1, 0,\n",
       "       1, 0, 1, 0, 0, 0, 0, 0, 1, 0, 1, 0, 1, 1, 0, 0, 1, 1, 0, 1, 0, 0, 1,\n",
       "       0, 1, 0, 0, 0, 0, 1, 1, 0, 0, 0, 1, 0, 1, 0, 1, 0, 1, 1, 0, 0, 0, 0,\n",
       "       0, 1, 0, 0, 1, 0, 0, 0, 1, 1, 1, 1, 1, 0, 0, 0, 1, 0, 1, 1, 1, 0, 1,\n",
       "       0, 0, 0, 0, 0, 1, 0, 0, 0, 1, 1, 0, 0, 0, 0, 0, 0, 0, 0, 1, 1, 0, 1,\n",
       "       0, 0, 0, 0, 0, 1, 0, 1, 1, 0, 0, 0, 0, 0, 0, 0, 0, 0, 0, 0, 1, 0, 0,\n",
       "       0, 0, 0, 0, 0, 0, 1, 0, 1, 0, 0, 0, 0, 0, 0, 1, 1, 0, 0, 0, 0, 0, 0,\n",
       "       0, 1, 1, 0, 1, 0, 0, 0, 1, 1, 0, 1, 0, 0, 0, 0, 0, 0, 0, 0, 0, 1, 0,\n",
       "       1, 0, 1, 0, 1, 1, 0, 0, 0, 1, 0, 1, 0, 0, 1, 0, 1, 1, 0, 1, 0, 0, 0,\n",
       "       1, 0, 0, 1, 0, 0, 1, 1, 0, 0, 0, 1, 0, 0, 1, 1, 0, 1, 0, 0, 0, 0, 1,\n",
       "       1, 1, 0, 0, 1, 0, 1, 0, 0, 1, 0, 1, 0, 0, 0, 0, 0, 0, 1, 0, 1, 1, 0,\n",
       "       1, 0, 0, 0])"
      ]
     },
     "execution_count": 47,
     "metadata": {},
     "output_type": "execute_result"
    }
   ],
   "source": [
    "preds2 = np.array([1 if val>0.35 else 0 for val in preds])\n",
    "preds2"
   ]
  },
  {
   "cell_type": "code",
   "execution_count": 49,
   "metadata": {
    "collapsed": false
   },
   "outputs": [
    {
     "data": {
      "text/plain": [
       "0.37452635806374457"
      ]
     },
     "execution_count": 49,
     "metadata": {},
     "output_type": "execute_result"
    }
   ],
   "source": [
    "preds.mean()"
   ]
  },
  {
   "cell_type": "code",
   "execution_count": 50,
   "metadata": {
    "collapsed": false
   },
   "outputs": [
    {
     "data": {
      "text/plain": [
       "0.37559808612440193"
      ]
     },
     "execution_count": 50,
     "metadata": {},
     "output_type": "execute_result"
    }
   ],
   "source": [
    "preds2.mean()"
   ]
  },
  {
   "cell_type": "code",
   "execution_count": 48,
   "metadata": {
    "collapsed": true
   },
   "outputs": [],
   "source": [
    "OUTPUT = pd.DataFrame()\n",
    "OUTPUT['PassengerId'] = TEST['PassengerId']\n",
    "OUTPUT['Survived'] = preds2"
   ]
  },
  {
   "cell_type": "code",
   "execution_count": 51,
   "metadata": {
    "collapsed": true
   },
   "outputs": [],
   "source": [
    "# Output The Rendered DataFrame to a CSV:\n",
    "fn = 'GBR SUBMISSION.csv'\n",
    "OUTPUT.to_csv(fn, index=False)"
   ]
  },
  {
   "cell_type": "code",
   "execution_count": null,
   "metadata": {
    "collapsed": true
   },
   "outputs": [],
   "source": []
  },
  {
   "cell_type": "code",
   "execution_count": null,
   "metadata": {
    "collapsed": true
   },
   "outputs": [],
   "source": []
  },
  {
   "cell_type": "code",
   "execution_count": null,
   "metadata": {
    "collapsed": true
   },
   "outputs": [],
   "source": []
  },
  {
   "cell_type": "code",
   "execution_count": null,
   "metadata": {
    "collapsed": true
   },
   "outputs": [],
   "source": []
  }
 ],
 "metadata": {
  "kernelspec": {
   "display_name": "Python 2",
   "language": "python",
   "name": "python2"
  },
  "language_info": {
   "codemirror_mode": {
    "name": "ipython",
    "version": 2
   },
   "file_extension": ".py",
   "mimetype": "text/x-python",
   "name": "python",
   "nbconvert_exporter": "python",
   "pygments_lexer": "ipython2",
   "version": "2.7.11"
  }
 },
 "nbformat": 4,
 "nbformat_minor": 0
}
