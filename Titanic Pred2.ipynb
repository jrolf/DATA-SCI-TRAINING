{
 "cells": [
  {
   "cell_type": "code",
   "execution_count": 52,
   "metadata": {
    "collapsed": true
   },
   "outputs": [],
   "source": [
    "%matplotlib inline\n",
    "import os,csv,codecs\n",
    "import pandas  as pd\n",
    "import numpy   as np\n",
    "import sklearn as sk\n",
    "\n",
    "import sklearn\n",
    "from sklearn import preprocessing\n",
    "from sklearn import decomposition\n",
    "\n",
    "import matplotlib.pyplot as plt\n",
    "from scipy.stats.stats import pearsonr\n",
    "import statsmodels.api as sm  \n",
    "\n",
    "from sklearn.ensemble import GradientBoostingRegressor as GBR\n",
    "from sklearn.ensemble import RandomForestRegressor     as RFR"
   ]
  },
  {
   "cell_type": "code",
   "execution_count": 6,
   "metadata": {
    "collapsed": true
   },
   "outputs": [],
   "source": [
    "# Load TRAIN data  ## Has both Input and Output variables.\n",
    "fn1 = 'train.csv'\n",
    "TRAIN = pd.read_csv(fn1,low_memory=False)\n",
    "\n",
    "# Load TEST data  ## Has ONLY Input Variables. (Goal is to render Outputs for this.)\n",
    "fn2 = 'test.csv'\n",
    "TEST = pd.read_csv(fn2,low_memory=False)\n"
   ]
  },
  {
   "cell_type": "code",
   "execution_count": 7,
   "metadata": {
    "collapsed": false
   },
   "outputs": [
    {
     "name": "stdout",
     "output_type": "stream",
     "text": [
      "891\n",
      "342\n",
      "38.3838383838\n"
     ]
    }
   ],
   "source": [
    "print len(TRAIN['Survived'])\n",
    "print sum(TRAIN['Survived'])\n",
    "print 100*sum(TRAIN['Survived'])/float(len(TRAIN['Survived'])) "
   ]
  },
  {
   "cell_type": "code",
   "execution_count": 8,
   "metadata": {
    "collapsed": true
   },
   "outputs": [],
   "source": [
    "YVar  = 'Survived'\n",
    "XVars = [\n",
    "    'Pclass',\n",
    "    'Age',\n",
    "    'From35',\n",
    "    'SibSp',\n",
    "    'Parch',\n",
    "    'Fare',\n",
    "    'Male',  ]\n",
    "\n",
    "Male = [1 if val=='male' else 0 for val in TRAIN['Sex']]\n",
    "TRAIN['Male'] = Male\n",
    "\n",
    "TRAIN['Age'].fillna(TRAIN['Age'].mean(), inplace=True)\n",
    "From35 = [abs(age-35) for age in TRAIN['Age']]\n",
    "TRAIN['From35'] = From35 \n",
    "\n",
    "# Replace any \"NaN\" values with the mean of the remaining values:\n",
    "for varname in XVars:\n",
    "    TRAIN[varname].fillna(TRAIN[varname].mean(), inplace=True)\n",
    "    \n",
    "#########################################################################\n",
    "    \n",
    "Male = [1 if val=='male' else 0 for val in TEST['Sex']]\n",
    "TEST['Male'] = Male\n",
    "\n",
    "TEST['Age'].fillna(TEST['Age'].mean(), inplace=True)\n",
    "From35 = [abs(age-35) for age in TEST['Age']]\n",
    "TEST['From35'] = From35 \n",
    "\n",
    "# Replace any \"NaN\" values with the mean of the remaining values:\n",
    "for varname in XVars:\n",
    "    TEST[varname].fillna(TEST[varname].mean(), inplace=True)\n",
    "    "
   ]
  },
  {
   "cell_type": "code",
   "execution_count": 13,
   "metadata": {
    "collapsed": false
   },
   "outputs": [
    {
     "data": {
      "text/html": [
       "<div>\n",
       "<table border=\"1\" class=\"dataframe\">\n",
       "  <thead>\n",
       "    <tr style=\"text-align: right;\">\n",
       "      <th></th>\n",
       "      <th>Pclass</th>\n",
       "      <th>Age</th>\n",
       "      <th>From35</th>\n",
       "      <th>SibSp</th>\n",
       "      <th>Parch</th>\n",
       "      <th>Fare</th>\n",
       "      <th>Male</th>\n",
       "    </tr>\n",
       "  </thead>\n",
       "  <tbody>\n",
       "    <tr>\n",
       "      <th>0</th>\n",
       "      <td>3</td>\n",
       "      <td>22</td>\n",
       "      <td>13</td>\n",
       "      <td>1</td>\n",
       "      <td>0</td>\n",
       "      <td>7.2500</td>\n",
       "      <td>1</td>\n",
       "    </tr>\n",
       "    <tr>\n",
       "      <th>1</th>\n",
       "      <td>1</td>\n",
       "      <td>38</td>\n",
       "      <td>3</td>\n",
       "      <td>1</td>\n",
       "      <td>0</td>\n",
       "      <td>71.2833</td>\n",
       "      <td>0</td>\n",
       "    </tr>\n",
       "    <tr>\n",
       "      <th>2</th>\n",
       "      <td>3</td>\n",
       "      <td>26</td>\n",
       "      <td>9</td>\n",
       "      <td>0</td>\n",
       "      <td>0</td>\n",
       "      <td>7.9250</td>\n",
       "      <td>0</td>\n",
       "    </tr>\n",
       "    <tr>\n",
       "      <th>3</th>\n",
       "      <td>1</td>\n",
       "      <td>35</td>\n",
       "      <td>0</td>\n",
       "      <td>1</td>\n",
       "      <td>0</td>\n",
       "      <td>53.1000</td>\n",
       "      <td>0</td>\n",
       "    </tr>\n",
       "    <tr>\n",
       "      <th>4</th>\n",
       "      <td>3</td>\n",
       "      <td>35</td>\n",
       "      <td>0</td>\n",
       "      <td>0</td>\n",
       "      <td>0</td>\n",
       "      <td>8.0500</td>\n",
       "      <td>1</td>\n",
       "    </tr>\n",
       "  </tbody>\n",
       "</table>\n",
       "</div>"
      ],
      "text/plain": [
       "   Pclass  Age  From35  SibSp  Parch     Fare  Male\n",
       "0       3   22      13      1      0   7.2500     1\n",
       "1       1   38       3      1      0  71.2833     0\n",
       "2       3   26       9      0      0   7.9250     0\n",
       "3       1   35       0      1      0  53.1000     0\n",
       "4       3   35       0      0      0   8.0500     1"
      ]
     },
     "execution_count": 13,
     "metadata": {},
     "output_type": "execute_result"
    }
   ],
   "source": [
    "y1 = TRAIN[YVar]\n",
    "X1 = TRAIN[XVars]\n",
    "X1.head()"
   ]
  },
  {
   "cell_type": "code",
   "execution_count": 12,
   "metadata": {
    "collapsed": false
   },
   "outputs": [
    {
     "data": {
      "text/html": [
       "<div>\n",
       "<table border=\"1\" class=\"dataframe\">\n",
       "  <thead>\n",
       "    <tr style=\"text-align: right;\">\n",
       "      <th></th>\n",
       "      <th>Pclass</th>\n",
       "      <th>Age</th>\n",
       "      <th>From35</th>\n",
       "      <th>SibSp</th>\n",
       "      <th>Parch</th>\n",
       "      <th>Fare</th>\n",
       "      <th>Male</th>\n",
       "    </tr>\n",
       "  </thead>\n",
       "  <tbody>\n",
       "    <tr>\n",
       "      <th>0</th>\n",
       "      <td>3</td>\n",
       "      <td>34.5</td>\n",
       "      <td>0.5</td>\n",
       "      <td>0</td>\n",
       "      <td>0</td>\n",
       "      <td>7.8292</td>\n",
       "      <td>1</td>\n",
       "    </tr>\n",
       "    <tr>\n",
       "      <th>1</th>\n",
       "      <td>3</td>\n",
       "      <td>47.0</td>\n",
       "      <td>12.0</td>\n",
       "      <td>1</td>\n",
       "      <td>0</td>\n",
       "      <td>7.0000</td>\n",
       "      <td>0</td>\n",
       "    </tr>\n",
       "    <tr>\n",
       "      <th>2</th>\n",
       "      <td>2</td>\n",
       "      <td>62.0</td>\n",
       "      <td>27.0</td>\n",
       "      <td>0</td>\n",
       "      <td>0</td>\n",
       "      <td>9.6875</td>\n",
       "      <td>1</td>\n",
       "    </tr>\n",
       "    <tr>\n",
       "      <th>3</th>\n",
       "      <td>3</td>\n",
       "      <td>27.0</td>\n",
       "      <td>8.0</td>\n",
       "      <td>0</td>\n",
       "      <td>0</td>\n",
       "      <td>8.6625</td>\n",
       "      <td>1</td>\n",
       "    </tr>\n",
       "    <tr>\n",
       "      <th>4</th>\n",
       "      <td>3</td>\n",
       "      <td>22.0</td>\n",
       "      <td>13.0</td>\n",
       "      <td>1</td>\n",
       "      <td>1</td>\n",
       "      <td>12.2875</td>\n",
       "      <td>0</td>\n",
       "    </tr>\n",
       "  </tbody>\n",
       "</table>\n",
       "</div>"
      ],
      "text/plain": [
       "   Pclass   Age  From35  SibSp  Parch     Fare  Male\n",
       "0       3  34.5     0.5      0      0   7.8292     1\n",
       "1       3  47.0    12.0      1      0   7.0000     0\n",
       "2       2  62.0    27.0      0      0   9.6875     1\n",
       "3       3  27.0     8.0      0      0   8.6625     1\n",
       "4       3  22.0    13.0      1      1  12.2875     0"
      ]
     },
     "execution_count": 12,
     "metadata": {},
     "output_type": "execute_result"
    }
   ],
   "source": [
    "X2 = TEST[XVars]\n",
    "X2.head()"
   ]
  },
  {
   "cell_type": "code",
   "execution_count": 14,
   "metadata": {
    "collapsed": true
   },
   "outputs": [],
   "source": [
    "# Fit the Model:"
   ]
  },
  {
   "cell_type": "code",
   "execution_count": 53,
   "metadata": {
    "collapsed": false
   },
   "outputs": [],
   "source": [
    "# Create and fit the model:\n",
    "#model = GBR() #<<<<<<<<<<<<<<<\n",
    "model = RFR()\n",
    "\n",
    "model.fit(X1, y1)\n",
    "\n",
    "# Calculate the predictions:\n",
    "preds = model.predict(X2)"
   ]
  },
  {
   "cell_type": "code",
   "execution_count": 54,
   "metadata": {
    "collapsed": false,
    "scrolled": true
   },
   "outputs": [
    {
     "data": {
      "text/plain": [
       "array([ 0.        ,  0.2       ,  0.5       ,  0.7       ,  0.2       ,\n",
       "        0.1       ,  0.2       ,  0.2       ,  0.9       ,  0.2       ,\n",
       "        0.        ,  0.3       ,  1.        ,  0.2       ,  1.        ,\n",
       "        1.        ,  0.06666667,  0.7       ,  0.5       ,  0.2       ,\n",
       "        0.2       ,  0.7       ,  1.        ,  0.5       ,  1.        ,\n",
       "        0.03333333,  1.        ,  0.5       ,  0.5       ,  0.1       ,\n",
       "        0.        ,  0.3       ,  0.5       ,  0.2       ,  0.66666667,\n",
       "        0.3       ,  0.        ,  0.        ,  0.        ,  0.64166667,\n",
       "        0.1       ,  0.58333333,  0.        ,  1.        ,  1.        ,\n",
       "        0.        ,  0.4       ,  0.04361111,  0.9       ,  0.6       ,\n",
       "        0.4       ,  0.        ,  1.        ,  1.        ,  0.        ,\n",
       "        0.        ,  0.        ,  0.        ,  0.1       ,  1.        ,\n",
       "        0.        ,  0.4       ,  0.        ,  1.        ,  0.6       ,\n",
       "        1.        ,  0.7       ,  0.        ,  0.1       ,  1.        ,\n",
       "        0.6875    ,  0.        ,  0.6       ,  0.43333333,  1.        ,\n",
       "        0.3       ,  0.        ,  0.7       ,  0.        ,  0.6875    ,\n",
       "        0.9       ,  0.2       ,  0.6       ,  0.        ,  0.1       ,\n",
       "        0.2       ,  0.7       ,  0.9       ,  0.39      ,  1.        ,\n",
       "        0.2       ,  0.26833333,  1.        ,  0.        ,  0.7       ,\n",
       "        0.2       ,  0.9       ,  0.8       ,  0.5       ,  0.2       ,\n",
       "        1.        ,  0.        ,  0.04361111,  0.1       ,  0.9       ,\n",
       "        0.        ,  0.2       ,  0.04361111,  0.4       ,  0.        ,\n",
       "        0.13333333,  0.39      ,  1.        ,  1.        ,  1.        ,\n",
       "        0.3       ,  0.        ,  1.        ,  0.3       ,  1.        ,\n",
       "        1.        ,  0.        ,  1.        ,  0.1       ,  0.04361111,\n",
       "        0.3       ,  0.1       ,  0.8       ,  0.63333333,  0.        ,\n",
       "        0.73333333,  0.6       ,  0.1       ,  0.        ,  0.1       ,\n",
       "        0.        ,  0.1       ,  0.1       ,  0.        ,  0.        ,\n",
       "        0.        ,  0.9       ,  0.1       ,  0.        ,  0.76666667,\n",
       "        0.4       ,  0.        ,  0.        ,  0.58333333,  0.        ,\n",
       "        1.        ,  0.        ,  0.1       ,  0.6       ,  0.        ,\n",
       "        0.1       ,  1.        ,  0.5       ,  0.76666667,  0.5       ,\n",
       "        0.4       ,  0.9       ,  0.7       ,  0.1       ,  0.53333333,\n",
       "        0.3       ,  0.5       ,  0.        ,  1.        ,  0.        ,\n",
       "        0.        ,  0.4       ,  0.3       ,  0.04      ,  0.        ,\n",
       "        1.        ,  1.        ,  0.2       ,  1.        ,  0.9       ,\n",
       "        0.        ,  0.3       ,  1.        ,  0.04361111,  1.        ,\n",
       "        0.        ,  0.9       ,  0.43      ,  0.        ,  0.1       ,\n",
       "        0.        ,  0.18333333,  0.7       ,  0.3       ,  0.7       ,\n",
       "        0.1       ,  0.9       ,  0.4       ,  0.        ,  0.        ,\n",
       "        0.9       ,  1.        ,  0.3       ,  1.        ,  0.        ,\n",
       "        0.18333333,  0.19      ,  0.        ,  1.        ,  0.        ,\n",
       "        0.5       ,  0.        ,  0.2       ,  0.7       ,  0.        ,\n",
       "        0.        ,  0.4       ,  0.1       ,  1.        ,  0.        ,\n",
       "        1.        ,  0.        ,  0.9       ,  0.7       ,  0.9       ,\n",
       "        0.3       ,  0.1       ,  0.39      ,  0.        ,  0.05      ,\n",
       "        0.1       ,  1.        ,  0.        ,  0.        ,  0.5       ,\n",
       "        0.        ,  0.4       ,  0.8       ,  1.        ,  1.        ,\n",
       "        0.9       ,  1.        ,  0.3       ,  0.        ,  0.2       ,\n",
       "        0.3       ,  0.9       ,  0.        ,  1.        ,  0.4       ,\n",
       "        0.6       ,  0.1       ,  0.5       ,  0.        ,  0.1       ,\n",
       "        0.        ,  0.04361111,  0.1       ,  1.        ,  0.1       ,\n",
       "        0.        ,  0.        ,  1.        ,  1.        ,  0.        ,\n",
       "        0.        ,  0.        ,  0.        ,  0.        ,  0.        ,\n",
       "        0.2       ,  0.04361111,  0.8       ,  0.9       ,  0.        ,\n",
       "        1.        ,  0.        ,  0.        ,  0.        ,  0.        ,\n",
       "        0.        ,  1.        ,  0.39      ,  0.4       ,  0.8       ,\n",
       "        0.        ,  0.        ,  0.3       ,  0.04      ,  0.        ,\n",
       "        0.1       ,  0.6       ,  0.04      ,  0.2       ,  0.1       ,\n",
       "        0.        ,  0.6       ,  0.1       ,  0.        ,  0.        ,\n",
       "        0.1       ,  0.        ,  0.08333333,  0.        ,  0.39      ,\n",
       "        0.9       ,  0.3       ,  1.        ,  0.2       ,  0.2       ,\n",
       "        0.        ,  0.5       ,  0.        ,  0.        ,  1.        ,\n",
       "        0.9       ,  0.3       ,  0.42833333,  0.3       ,  0.2       ,\n",
       "        0.1       ,  0.        ,  0.1       ,  0.6       ,  1.        ,\n",
       "        0.        ,  1.        ,  0.1       ,  0.        ,  0.        ,\n",
       "        1.        ,  0.4       ,  0.        ,  0.2       ,  0.3       ,\n",
       "        0.18333333,  0.5       ,  0.1       ,  0.1       ,  0.04      ,\n",
       "        0.295     ,  0.        ,  0.21666667,  0.9       ,  0.4       ,\n",
       "        1.        ,  0.1       ,  0.        ,  0.        ,  1.        ,\n",
       "        1.        ,  0.        ,  0.1       ,  0.2       ,  0.8       ,\n",
       "        0.6       ,  1.        ,  0.        ,  0.04361111,  0.9       ,\n",
       "        0.        ,  1.        ,  1.        ,  0.7       ,  0.8       ,\n",
       "        0.        ,  0.2       ,  0.5       ,  1.        ,  0.5       ,\n",
       "        0.        ,  1.        ,  0.3       ,  0.65      ,  1.        ,\n",
       "        1.        ,  0.        ,  0.        ,  0.1       ,  0.2       ,\n",
       "        0.04361111,  0.        ,  0.5       ,  0.2       ,  0.        ,\n",
       "        1.        ,  0.        ,  0.        ,  0.        ,  0.2       ,\n",
       "        0.3       ,  0.9       ,  0.6       ,  0.1       ,  0.1       ,\n",
       "        1.        ,  0.1       ,  1.        ,  0.        ,  0.        ,\n",
       "        1.        ,  0.1       ,  1.        ,  0.7       ,  0.43333333,\n",
       "        0.1       ,  0.        ,  0.3       ,  0.4       ,  0.8       ,\n",
       "        0.39      ,  1.        ,  0.7       ,  0.        ,  1.        ,\n",
       "        0.        ,  0.        ,  0.1       ])"
      ]
     },
     "execution_count": 54,
     "metadata": {},
     "output_type": "execute_result"
    }
   ],
   "source": [
    "preds"
   ]
  },
  {
   "cell_type": "code",
   "execution_count": 58,
   "metadata": {
    "collapsed": false,
    "scrolled": true
   },
   "outputs": [
    {
     "data": {
      "text/plain": [
       "array([0, 0, 1, 1, 0, 0, 0, 0, 1, 0, 0, 0, 1, 0, 1, 1, 0, 1, 1, 0, 0, 1, 1,\n",
       "       1, 1, 0, 1, 1, 1, 0, 0, 0, 1, 0, 1, 0, 0, 0, 0, 1, 0, 1, 0, 1, 1, 0,\n",
       "       0, 0, 1, 1, 0, 0, 1, 1, 0, 0, 0, 0, 0, 1, 0, 0, 0, 1, 1, 1, 1, 0, 0,\n",
       "       1, 1, 0, 1, 1, 1, 0, 0, 1, 0, 1, 1, 0, 1, 0, 0, 0, 1, 1, 0, 1, 0, 0,\n",
       "       1, 0, 1, 0, 1, 1, 1, 0, 1, 0, 0, 0, 1, 0, 0, 0, 0, 0, 0, 0, 1, 1, 1,\n",
       "       0, 0, 1, 0, 1, 1, 0, 1, 0, 0, 0, 0, 1, 1, 0, 1, 1, 0, 0, 0, 0, 0, 0,\n",
       "       0, 0, 0, 1, 0, 0, 1, 0, 0, 0, 1, 0, 1, 0, 0, 1, 0, 0, 1, 1, 1, 1, 0,\n",
       "       1, 1, 0, 1, 0, 1, 0, 1, 0, 0, 0, 0, 0, 0, 1, 1, 0, 1, 1, 0, 0, 1, 0,\n",
       "       1, 0, 1, 1, 0, 0, 0, 0, 1, 0, 1, 0, 1, 0, 0, 0, 1, 1, 0, 1, 0, 0, 0,\n",
       "       0, 1, 0, 1, 0, 0, 1, 0, 0, 0, 0, 1, 0, 1, 0, 1, 1, 1, 0, 0, 0, 0, 0,\n",
       "       0, 1, 0, 0, 1, 0, 0, 1, 1, 1, 1, 1, 0, 0, 0, 0, 1, 0, 1, 0, 1, 0, 1,\n",
       "       0, 0, 0, 0, 0, 1, 0, 0, 0, 1, 1, 0, 0, 0, 0, 0, 0, 0, 0, 1, 1, 0, 1,\n",
       "       0, 0, 0, 0, 0, 1, 0, 0, 1, 0, 0, 0, 0, 0, 0, 1, 0, 0, 0, 0, 1, 0, 0,\n",
       "       0, 0, 0, 0, 0, 0, 1, 0, 1, 0, 0, 0, 1, 0, 0, 1, 1, 0, 1, 0, 0, 0, 0,\n",
       "       0, 1, 1, 0, 1, 0, 0, 0, 1, 0, 0, 0, 0, 0, 1, 0, 0, 0, 0, 0, 0, 1, 0,\n",
       "       1, 0, 0, 0, 1, 1, 0, 0, 0, 1, 1, 1, 0, 0, 1, 0, 1, 1, 1, 1, 0, 0, 1,\n",
       "       1, 1, 0, 1, 0, 1, 1, 1, 0, 0, 0, 0, 0, 0, 1, 0, 0, 1, 0, 0, 0, 0, 0,\n",
       "       1, 1, 0, 0, 1, 0, 1, 0, 0, 1, 0, 1, 1, 1, 0, 0, 0, 0, 1, 0, 1, 1, 0,\n",
       "       1, 0, 0, 0])"
      ]
     },
     "execution_count": 58,
     "metadata": {},
     "output_type": "execute_result"
    }
   ],
   "source": [
    "preds2 = np.array([1 if val>0.40 else 0 for val in preds])\n",
    "preds2"
   ]
  },
  {
   "cell_type": "code",
   "execution_count": 59,
   "metadata": {
    "collapsed": false
   },
   "outputs": [
    {
     "data": {
      "text/plain": [
       "0.3838217703349282"
      ]
     },
     "execution_count": 59,
     "metadata": {},
     "output_type": "execute_result"
    }
   ],
   "source": [
    "preds.mean()"
   ]
  },
  {
   "cell_type": "code",
   "execution_count": 60,
   "metadata": {
    "collapsed": false
   },
   "outputs": [
    {
     "data": {
      "text/plain": [
       "0.38516746411483255"
      ]
     },
     "execution_count": 60,
     "metadata": {},
     "output_type": "execute_result"
    }
   ],
   "source": [
    "preds2.mean()"
   ]
  },
  {
   "cell_type": "code",
   "execution_count": 61,
   "metadata": {
    "collapsed": true
   },
   "outputs": [],
   "source": [
    "OUTPUT = pd.DataFrame()\n",
    "OUTPUT['PassengerId'] = TEST['PassengerId']\n",
    "OUTPUT['Survived'] = preds2"
   ]
  },
  {
   "cell_type": "code",
   "execution_count": 62,
   "metadata": {
    "collapsed": true
   },
   "outputs": [],
   "source": [
    "# Output The Rendered DataFrame to a CSV:\n",
    "fn = 'GBR SUBMISSION.csv'\n",
    "fn = 'RFR SUBMISSION.csv'\n",
    "OUTPUT.to_csv(fn, index=False)"
   ]
  },
  {
   "cell_type": "code",
   "execution_count": null,
   "metadata": {
    "collapsed": true
   },
   "outputs": [],
   "source": []
  },
  {
   "cell_type": "code",
   "execution_count": null,
   "metadata": {
    "collapsed": true
   },
   "outputs": [],
   "source": []
  },
  {
   "cell_type": "code",
   "execution_count": null,
   "metadata": {
    "collapsed": true
   },
   "outputs": [],
   "source": []
  },
  {
   "cell_type": "code",
   "execution_count": null,
   "metadata": {
    "collapsed": true
   },
   "outputs": [],
   "source": []
  }
 ],
 "metadata": {
  "kernelspec": {
   "display_name": "Python 2",
   "language": "python",
   "name": "python2"
  },
  "language_info": {
   "codemirror_mode": {
    "name": "ipython",
    "version": 2
   },
   "file_extension": ".py",
   "mimetype": "text/x-python",
   "name": "python",
   "nbconvert_exporter": "python",
   "pygments_lexer": "ipython2",
   "version": "2.7.11"
  }
 },
 "nbformat": 4,
 "nbformat_minor": 0
}
